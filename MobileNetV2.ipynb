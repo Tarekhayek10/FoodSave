{
  "cells": [
    {
      "cell_type": "code",
      "source": [
        "from google.colab import drive\n",
        "drive.mount('/content/drive')\n"
      ],
      "metadata": {
        "id": "0wTMD1BI1T4m",
        "outputId": "0413d8b1-b75e-475f-cb37-731afe1244af",
        "colab": {
          "base_uri": "https://localhost:8080/"
        }
      },
      "execution_count": 1,
      "outputs": [
        {
          "output_type": "stream",
          "name": "stdout",
          "text": [
            "Mounted at /content/drive\n"
          ]
        }
      ]
    },
    {
      "cell_type": "code",
      "source": [
        "!cp /content/drive/MyDrive/foodimages.zip /content/\n"
      ],
      "metadata": {
        "id": "9yq935ji2POW"
      },
      "execution_count": 3,
      "outputs": []
    },
    {
      "cell_type": "code",
      "source": [
        "import zipfile\n",
        "\n",
        "with zipfile.ZipFile('/content/foodimages.zip', 'r') as zip_ref:\n",
        "    zip_ref.extractall('/content/')\n"
      ],
      "metadata": {
        "id": "d5fFQ9Xc2li_"
      },
      "execution_count": 4,
      "outputs": []
    },
    {
      "cell_type": "code",
      "source": [
        "import os\n",
        "import tensorflow as tf\n",
        "from tensorflow.keras.preprocessing.image import ImageDataGenerator\n",
        "from tensorflow.keras.applications import MobileNetV2\n",
        "from tensorflow.keras.models import Model\n",
        "from tensorflow.keras.layers import Dense, Dropout, GlobalAveragePooling2D\n",
        "from tensorflow.keras.optimizers import Adam\n",
        "from tensorflow.keras.callbacks import ModelCheckpoint"
      ],
      "metadata": {
        "id": "CS37ivuy21EF"
      },
      "execution_count": 5,
      "outputs": []
    },
    {
      "cell_type": "code",
      "source": [
        "# Paths\n",
        "BASE_DIR = \"/content/foodimages\"\n",
        "TRAIN_DIR = os.path.join(BASE_DIR, \"train\")\n",
        "VAL_DIR = os.path.join(BASE_DIR, \"validation\")\n",
        "TEST_DIR = os.path.join(BASE_DIR, \"test\")\n",
        "CHECKPOINT_DIR = \"/content/checkpoints\"\n",
        "os.makedirs(CHECKPOINT_DIR, exist_ok=True)\n",
        "LATEST_CHECKPOINT = tf.train.latest_checkpoint(CHECKPOINT_DIR)"
      ],
      "metadata": {
        "id": "UEi7xglB3E7u"
      },
      "execution_count": 6,
      "outputs": []
    },
    {
      "cell_type": "code",
      "source": [
        "# Parameters\n",
        "IMG_SIZE = (224, 224)\n",
        "BATCH_SIZE = 32\n",
        "NUM_CLASSES = 101\n",
        "TOTAL_EPOCHS = 60"
      ],
      "metadata": {
        "id": "AaDRajVy3TNE"
      },
      "execution_count": 7,
      "outputs": []
    },
    {
      "cell_type": "code",
      "source": [
        "# Data augmentation\n",
        "train_datagen = ImageDataGenerator(\n",
        "    rescale=1./255,\n",
        "    rotation_range=30,\n",
        "    width_shift_range=0.2,\n",
        "    height_shift_range=0.2,\n",
        "    zoom_range=0.2,\n",
        "    shear_range=0.2,\n",
        "    horizontal_flip=True,\n",
        "    brightness_range=[0.7, 1.3],\n",
        "    fill_mode='nearest'\n",
        ")"
      ],
      "metadata": {
        "id": "Z94KrinC3cKL"
      },
      "execution_count": 8,
      "outputs": []
    },
    {
      "cell_type": "code",
      "source": [
        "val_test_datagen = ImageDataGenerator(rescale=1./255)"
      ],
      "metadata": {
        "id": "ww_1Aub73dZg"
      },
      "execution_count": 9,
      "outputs": []
    },
    {
      "cell_type": "code",
      "source": [
        "train_generator = train_datagen.flow_from_directory(\n",
        "    TRAIN_DIR,\n",
        "    target_size=IMG_SIZE,\n",
        "    batch_size=BATCH_SIZE,\n",
        "    class_mode='categorical'\n",
        ")"
      ],
      "metadata": {
        "id": "k0BpuUgW3f_K",
        "outputId": "841c7592-c575-4840-ca76-11efdafaf58f",
        "colab": {
          "base_uri": "https://localhost:8080/"
        }
      },
      "execution_count": 10,
      "outputs": [
        {
          "output_type": "stream",
          "name": "stdout",
          "text": [
            "Found 35350 images belonging to 101 classes.\n"
          ]
        }
      ]
    },
    {
      "cell_type": "code",
      "source": [
        "val_generator = val_test_datagen.flow_from_directory(\n",
        "    VAL_DIR,\n",
        "    target_size=IMG_SIZE,\n",
        "    batch_size=BATCH_SIZE,\n",
        "    class_mode='categorical'\n",
        ")"
      ],
      "metadata": {
        "id": "SBN5zWtD3jjM",
        "outputId": "7f3687fb-72ed-4890-db8a-84ee3fa17466",
        "colab": {
          "base_uri": "https://localhost:8080/"
        }
      },
      "execution_count": 11,
      "outputs": [
        {
          "output_type": "stream",
          "name": "stdout",
          "text": [
            "Found 17776 images belonging to 101 classes.\n"
          ]
        }
      ]
    },
    {
      "cell_type": "code",
      "source": [
        "test_generator = val_test_datagen.flow_from_directory(\n",
        "    TEST_DIR,\n",
        "    target_size=IMG_SIZE,\n",
        "    batch_size=BATCH_SIZE,\n",
        "    class_mode='categorical',\n",
        "    shuffle=False\n",
        ")"
      ],
      "metadata": {
        "id": "ASRZIz9Y3mMY",
        "outputId": "dc518487-4764-4e0a-b219-25223df080ba",
        "colab": {
          "base_uri": "https://localhost:8080/"
        }
      },
      "execution_count": 12,
      "outputs": [
        {
          "output_type": "stream",
          "name": "stdout",
          "text": [
            "Found 17776 images belonging to 101 classes.\n"
          ]
        }
      ]
    },
    {
      "cell_type": "code",
      "source": [
        "# Build MobileNetV2\n",
        "base_model = MobileNetV2(include_top=False, input_shape=(224, 224, 3), weights='imagenet')\n",
        "base_model.trainable = True  # Fine-tuning from beginning"
      ],
      "metadata": {
        "id": "1NBbBEIq3oYa",
        "outputId": "e9c9d885-1280-4af2-9a0e-0046926ed6a1",
        "colab": {
          "base_uri": "https://localhost:8080/"
        }
      },
      "execution_count": 13,
      "outputs": [
        {
          "output_type": "stream",
          "name": "stdout",
          "text": [
            "Downloading data from https://storage.googleapis.com/tensorflow/keras-applications/mobilenet_v2/mobilenet_v2_weights_tf_dim_ordering_tf_kernels_1.0_224_no_top.h5\n",
            "\u001b[1m9406464/9406464\u001b[0m \u001b[32m━━━━━━━━━━━━━━━━━━━━\u001b[0m\u001b[37m\u001b[0m \u001b[1m0s\u001b[0m 0us/step\n"
          ]
        }
      ]
    },
    {
      "cell_type": "code",
      "source": [
        "x = base_model.output\n",
        "x = GlobalAveragePooling2D()(x)\n",
        "x = Dropout(0.4)(x)\n",
        "outputs = Dense(NUM_CLASSES, activation='softmax')(x)"
      ],
      "metadata": {
        "id": "ZT1VecyM3tNe"
      },
      "execution_count": 14,
      "outputs": []
    },
    {
      "cell_type": "code",
      "source": [
        "model = Model(inputs=base_model.input, outputs=outputs)"
      ],
      "metadata": {
        "id": "NVAkr0it3wYi"
      },
      "execution_count": 15,
      "outputs": []
    },
    {
      "cell_type": "code",
      "source": [
        "# Compile model\n",
        "model.compile(optimizer=Adam(learning_rate=1e-4),\n",
        "              loss='categorical_crossentropy',\n",
        "              metrics=['accuracy'])"
      ],
      "metadata": {
        "id": "7NimQSbM3yVf"
      },
      "execution_count": 16,
      "outputs": []
    },
    {
      "cell_type": "code",
      "source": [
        "# If checkpoint exists, load it\n",
        "initial_epoch = 0\n",
        "if LATEST_CHECKPOINT:\n",
        "    print(f\"✅ Found checkpoint {LATEST_CHECKPOINT}, loading weights...\")\n",
        "    model.load_weights(LATEST_CHECKPOINT)\n",
        "    # Extract epoch number from checkpoint filename\n",
        "    initial_epoch = int(LATEST_CHECKPOINT.split('_')[-1].split('.')[0])\n",
        "    print(f\"Resuming from epoch {initial_epoch}...\")\n",
        "\n",
        "else:\n",
        "    print(\"🚀 No checkpoint found, starting fresh...\")"
      ],
      "metadata": {
        "id": "2K5LHkcl31F8",
        "outputId": "ac701363-8d85-4caa-ef41-2461dbd9e0c0",
        "colab": {
          "base_uri": "https://localhost:8080/"
        }
      },
      "execution_count": 17,
      "outputs": [
        {
          "output_type": "stream",
          "name": "stdout",
          "text": [
            "🚀 No checkpoint found, starting fresh...\n"
          ]
        }
      ]
    },
    {
      "cell_type": "code",
      "source": [
        "# Save checkpoint after every epoch\n",
        "checkpoint_cb = ModelCheckpoint(\n",
        "    filepath=os.path.join(CHECKPOINT_DIR, \"ckpt_{epoch:02d}.weights.h5\"),\n",
        "    save_weights_only=True,\n",
        "    save_freq='epoch'\n",
        ")"
      ],
      "metadata": {
        "id": "K51pGqHL34jY"
      },
      "execution_count": 18,
      "outputs": []
    },
    {
      "cell_type": "code",
      "source": [
        "# Train model\n",
        "history = model.fit(\n",
        "    train_generator,\n",
        "    validation_data=val_generator,\n",
        "    epochs=TOTAL_EPOCHS,\n",
        "    initial_epoch=initial_epoch,\n",
        "    callbacks=[checkpoint_cb]\n",
        ")"
      ],
      "metadata": {
        "id": "ITqRWsqT3658",
        "outputId": "ddb52ab8-871c-4ad3-ebef-55392f3e50a4",
        "colab": {
          "base_uri": "https://localhost:8080/"
        }
      },
      "execution_count": 19,
      "outputs": [
        {
          "metadata": {
            "tags": null
          },
          "name": "stderr",
          "output_type": "stream",
          "text": [
            "/usr/local/lib/python3.11/dist-packages/keras/src/trainers/data_adapters/py_dataset_adapter.py:121: UserWarning: Your `PyDataset` class should call `super().__init__(**kwargs)` in its constructor. `**kwargs` can include `workers`, `use_multiprocessing`, `max_queue_size`. Do not pass these arguments to `fit()`, as they will be ignored.\n",
            "  self._warn_if_super_not_called()\n"
          ]
        },
        {
          "output_type": "stream",
          "name": "stdout",
          "text": [
            "Epoch 1/60\n",
            "\u001b[1m1105/1105\u001b[0m \u001b[32m━━━━━━━━━━━━━━━━━━━━\u001b[0m\u001b[37m\u001b[0m \u001b[1m611s\u001b[0m 499ms/step - accuracy: 0.1826 - loss: 3.7366 - val_accuracy: 0.4309 - val_loss: 2.3339\n",
            "Epoch 2/60\n",
            "\u001b[1m1105/1105\u001b[0m \u001b[32m━━━━━━━━━━━━━━━━━━━━\u001b[0m\u001b[37m\u001b[0m \u001b[1m514s\u001b[0m 465ms/step - accuracy: 0.5224 - loss: 1.8771 - val_accuracy: 0.5955 - val_loss: 1.5797\n",
            "Epoch 3/60\n",
            "\u001b[1m1105/1105\u001b[0m \u001b[32m━━━━━━━━━━━━━━━━━━━━\u001b[0m\u001b[37m\u001b[0m \u001b[1m511s\u001b[0m 462ms/step - accuracy: 0.5992 - loss: 1.5277 - val_accuracy: 0.6130 - val_loss: 1.5203\n",
            "Epoch 4/60\n",
            "\u001b[1m1105/1105\u001b[0m \u001b[32m━━━━━━━━━━━━━━━━━━━━\u001b[0m\u001b[37m\u001b[0m \u001b[1m512s\u001b[0m 464ms/step - accuracy: 0.6481 - loss: 1.3251 - val_accuracy: 0.6487 - val_loss: 1.3812\n",
            "Epoch 5/60\n",
            "\u001b[1m1105/1105\u001b[0m \u001b[32m━━━━━━━━━━━━━━━━━━━━\u001b[0m\u001b[37m\u001b[0m \u001b[1m512s\u001b[0m 464ms/step - accuracy: 0.6889 - loss: 1.1555 - val_accuracy: 0.6147 - val_loss: 1.5674\n",
            "Epoch 6/60\n",
            "\u001b[1m1105/1105\u001b[0m \u001b[32m━━━━━━━━━━━━━━━━━━━━\u001b[0m\u001b[37m\u001b[0m \u001b[1m522s\u001b[0m 472ms/step - accuracy: 0.7198 - loss: 1.0223 - val_accuracy: 0.6497 - val_loss: 1.3979\n",
            "Epoch 7/60\n",
            "\u001b[1m1105/1105\u001b[0m \u001b[32m━━━━━━━━━━━━━━━━━━━━\u001b[0m\u001b[37m\u001b[0m \u001b[1m513s\u001b[0m 464ms/step - accuracy: 0.7410 - loss: 0.9501 - val_accuracy: 0.6603 - val_loss: 1.3527\n",
            "Epoch 8/60\n",
            "\u001b[1m1105/1105\u001b[0m \u001b[32m━━━━━━━━━━━━━━━━━━━━\u001b[0m\u001b[37m\u001b[0m \u001b[1m510s\u001b[0m 462ms/step - accuracy: 0.7606 - loss: 0.8707 - val_accuracy: 0.6447 - val_loss: 1.4726\n",
            "Epoch 9/60\n",
            "\u001b[1m1105/1105\u001b[0m \u001b[32m━━━━━━━━━━━━━━━━━━━━\u001b[0m\u001b[37m\u001b[0m \u001b[1m514s\u001b[0m 465ms/step - accuracy: 0.7783 - loss: 0.7844 - val_accuracy: 0.6535 - val_loss: 1.3908\n",
            "Epoch 10/60\n",
            "\u001b[1m1105/1105\u001b[0m \u001b[32m━━━━━━━━━━━━━━━━━━━━\u001b[0m\u001b[37m\u001b[0m \u001b[1m519s\u001b[0m 469ms/step - accuracy: 0.7891 - loss: 0.7434 - val_accuracy: 0.6585 - val_loss: 1.4175\n",
            "Epoch 11/60\n",
            "\u001b[1m1105/1105\u001b[0m \u001b[32m━━━━━━━━━━━━━━━━━━━━\u001b[0m\u001b[37m\u001b[0m \u001b[1m509s\u001b[0m 461ms/step - accuracy: 0.8076 - loss: 0.6764 - val_accuracy: 0.6443 - val_loss: 1.5263\n",
            "Epoch 12/60\n",
            "\u001b[1m1105/1105\u001b[0m \u001b[32m━━━━━━━━━━━━━━━━━━━━\u001b[0m\u001b[37m\u001b[0m \u001b[1m512s\u001b[0m 463ms/step - accuracy: 0.8221 - loss: 0.6278 - val_accuracy: 0.6533 - val_loss: 1.4999\n",
            "Epoch 13/60\n",
            "\u001b[1m1105/1105\u001b[0m \u001b[32m━━━━━━━━━━━━━━━━━━━━\u001b[0m\u001b[37m\u001b[0m \u001b[1m510s\u001b[0m 461ms/step - accuracy: 0.8289 - loss: 0.5849 - val_accuracy: 0.6654 - val_loss: 1.4124\n",
            "Epoch 14/60\n",
            "\u001b[1m1105/1105\u001b[0m \u001b[32m━━━━━━━━━━━━━━━━━━━━\u001b[0m\u001b[37m\u001b[0m \u001b[1m510s\u001b[0m 461ms/step - accuracy: 0.8396 - loss: 0.5400 - val_accuracy: 0.6790 - val_loss: 1.3813\n",
            "Epoch 15/60\n",
            "\u001b[1m1105/1105\u001b[0m \u001b[32m━━━━━━━━━━━━━━━━━━━━\u001b[0m\u001b[37m\u001b[0m \u001b[1m507s\u001b[0m 459ms/step - accuracy: 0.8521 - loss: 0.5087 - val_accuracy: 0.6806 - val_loss: 1.4121\n",
            "Epoch 16/60\n",
            "\u001b[1m1105/1105\u001b[0m \u001b[32m━━━━━━━━━━━━━━━━━━━━\u001b[0m\u001b[37m\u001b[0m \u001b[1m508s\u001b[0m 460ms/step - accuracy: 0.8579 - loss: 0.4835 - val_accuracy: 0.6465 - val_loss: 1.7117\n",
            "Epoch 17/60\n",
            "\u001b[1m1105/1105\u001b[0m \u001b[32m━━━━━━━━━━━━━━━━━━━━\u001b[0m\u001b[37m\u001b[0m \u001b[1m512s\u001b[0m 463ms/step - accuracy: 0.8658 - loss: 0.4573 - val_accuracy: 0.6682 - val_loss: 1.6073\n",
            "Epoch 18/60\n",
            "\u001b[1m1105/1105\u001b[0m \u001b[32m━━━━━━━━━━━━━━━━━━━━\u001b[0m\u001b[37m\u001b[0m \u001b[1m512s\u001b[0m 464ms/step - accuracy: 0.8752 - loss: 0.4163 - val_accuracy: 0.6905 - val_loss: 1.4559\n",
            "Epoch 19/60\n",
            "\u001b[1m1105/1105\u001b[0m \u001b[32m━━━━━━━━━━━━━━━━━━━━\u001b[0m\u001b[37m\u001b[0m \u001b[1m507s\u001b[0m 459ms/step - accuracy: 0.8787 - loss: 0.4023 - val_accuracy: 0.6811 - val_loss: 1.5024\n",
            "Epoch 20/60\n",
            "\u001b[1m1105/1105\u001b[0m \u001b[32m━━━━━━━━━━━━━━━━━━━━\u001b[0m\u001b[37m\u001b[0m \u001b[1m512s\u001b[0m 464ms/step - accuracy: 0.8873 - loss: 0.3760 - val_accuracy: 0.6880 - val_loss: 1.4641\n",
            "Epoch 21/60\n",
            "\u001b[1m1105/1105\u001b[0m \u001b[32m━━━━━━━━━━━━━━━━━━━━\u001b[0m\u001b[37m\u001b[0m \u001b[1m516s\u001b[0m 467ms/step - accuracy: 0.8911 - loss: 0.3642 - val_accuracy: 0.6811 - val_loss: 1.5679\n",
            "Epoch 22/60\n",
            "\u001b[1m1105/1105\u001b[0m \u001b[32m━━━━━━━━━━━━━━━━━━━━\u001b[0m\u001b[37m\u001b[0m \u001b[1m511s\u001b[0m 462ms/step - accuracy: 0.8964 - loss: 0.3330 - val_accuracy: 0.6881 - val_loss: 1.5366\n",
            "Epoch 23/60\n",
            "\u001b[1m1105/1105\u001b[0m \u001b[32m━━━━━━━━━━━━━━━━━━━━\u001b[0m\u001b[37m\u001b[0m \u001b[1m511s\u001b[0m 462ms/step - accuracy: 0.9003 - loss: 0.3210 - val_accuracy: 0.6921 - val_loss: 1.5022\n",
            "Epoch 24/60\n",
            "\u001b[1m1105/1105\u001b[0m \u001b[32m━━━━━━━━━━━━━━━━━━━━\u001b[0m\u001b[37m\u001b[0m \u001b[1m511s\u001b[0m 462ms/step - accuracy: 0.9070 - loss: 0.3078 - val_accuracy: 0.6889 - val_loss: 1.4941\n",
            "Epoch 25/60\n",
            "\u001b[1m1105/1105\u001b[0m \u001b[32m━━━━━━━━━━━━━━━━━━━━\u001b[0m\u001b[37m\u001b[0m \u001b[1m519s\u001b[0m 470ms/step - accuracy: 0.9084 - loss: 0.2992 - val_accuracy: 0.6721 - val_loss: 1.7643\n",
            "Epoch 26/60\n",
            "\u001b[1m1105/1105\u001b[0m \u001b[32m━━━━━━━━━━━━━━━━━━━━\u001b[0m\u001b[37m\u001b[0m \u001b[1m511s\u001b[0m 462ms/step - accuracy: 0.9122 - loss: 0.2864 - val_accuracy: 0.6652 - val_loss: 1.7215\n",
            "Epoch 27/60\n",
            "\u001b[1m1105/1105\u001b[0m \u001b[32m━━━━━━━━━━━━━━━━━━━━\u001b[0m\u001b[37m\u001b[0m \u001b[1m514s\u001b[0m 465ms/step - accuracy: 0.9202 - loss: 0.2601 - val_accuracy: 0.6769 - val_loss: 1.6530\n",
            "Epoch 28/60\n",
            "\u001b[1m1105/1105\u001b[0m \u001b[32m━━━━━━━━━━━━━━━━━━━━\u001b[0m\u001b[37m\u001b[0m \u001b[1m516s\u001b[0m 467ms/step - accuracy: 0.9225 - loss: 0.2574 - val_accuracy: 0.6723 - val_loss: 1.6777\n",
            "Epoch 29/60\n",
            "\u001b[1m1105/1105\u001b[0m \u001b[32m━━━━━━━━━━━━━━━━━━━━\u001b[0m\u001b[37m\u001b[0m \u001b[1m524s\u001b[0m 474ms/step - accuracy: 0.9199 - loss: 0.2564 - val_accuracy: 0.6774 - val_loss: 1.6792\n",
            "Epoch 30/60\n",
            "\u001b[1m1105/1105\u001b[0m \u001b[32m━━━━━━━━━━━━━━━━━━━━\u001b[0m\u001b[37m\u001b[0m \u001b[1m511s\u001b[0m 462ms/step - accuracy: 0.9255 - loss: 0.2383 - val_accuracy: 0.6944 - val_loss: 1.6553\n",
            "Epoch 31/60\n",
            "\u001b[1m1105/1105\u001b[0m \u001b[32m━━━━━━━━━━━━━━━━━━━━\u001b[0m\u001b[37m\u001b[0m \u001b[1m519s\u001b[0m 470ms/step - accuracy: 0.9261 - loss: 0.2356 - val_accuracy: 0.6955 - val_loss: 1.6459\n",
            "Epoch 32/60\n",
            "\u001b[1m1105/1105\u001b[0m \u001b[32m━━━━━━━━━━━━━━━━━━━━\u001b[0m\u001b[37m\u001b[0m \u001b[1m520s\u001b[0m 471ms/step - accuracy: 0.9292 - loss: 0.2208 - val_accuracy: 0.6883 - val_loss: 1.6083\n",
            "Epoch 33/60\n",
            "\u001b[1m1105/1105\u001b[0m \u001b[32m━━━━━━━━━━━━━━━━━━━━\u001b[0m\u001b[37m\u001b[0m \u001b[1m524s\u001b[0m 474ms/step - accuracy: 0.9329 - loss: 0.2145 - val_accuracy: 0.6751 - val_loss: 1.8044\n",
            "Epoch 34/60\n",
            "\u001b[1m1105/1105\u001b[0m \u001b[32m━━━━━━━━━━━━━━━━━━━━\u001b[0m\u001b[37m\u001b[0m \u001b[1m524s\u001b[0m 474ms/step - accuracy: 0.9341 - loss: 0.2077 - val_accuracy: 0.6860 - val_loss: 1.7220\n",
            "Epoch 35/60\n",
            "\u001b[1m1105/1105\u001b[0m \u001b[32m━━━━━━━━━━━━━━━━━━━━\u001b[0m\u001b[37m\u001b[0m \u001b[1m512s\u001b[0m 463ms/step - accuracy: 0.9315 - loss: 0.2123 - val_accuracy: 0.6862 - val_loss: 1.7140\n",
            "Epoch 36/60\n",
            "\u001b[1m1105/1105\u001b[0m \u001b[32m━━━━━━━━━━━━━━━━━━━━\u001b[0m\u001b[37m\u001b[0m \u001b[1m515s\u001b[0m 466ms/step - accuracy: 0.9358 - loss: 0.2037 - val_accuracy: 0.6599 - val_loss: 1.9214\n",
            "Epoch 37/60\n",
            "\u001b[1m1105/1105\u001b[0m \u001b[32m━━━━━━━━━━━━━━━━━━━━\u001b[0m\u001b[37m\u001b[0m \u001b[1m518s\u001b[0m 469ms/step - accuracy: 0.9382 - loss: 0.1956 - val_accuracy: 0.6617 - val_loss: 1.9042\n",
            "Epoch 38/60\n",
            "\u001b[1m1105/1105\u001b[0m \u001b[32m━━━━━━━━━━━━━━━━━━━━\u001b[0m\u001b[37m\u001b[0m \u001b[1m513s\u001b[0m 464ms/step - accuracy: 0.9441 - loss: 0.1826 - val_accuracy: 0.6706 - val_loss: 1.8575\n",
            "Epoch 39/60\n",
            "\u001b[1m1105/1105\u001b[0m \u001b[32m━━━━━━━━━━━━━━━━━━━━\u001b[0m\u001b[37m\u001b[0m \u001b[1m515s\u001b[0m 466ms/step - accuracy: 0.9424 - loss: 0.1812 - val_accuracy: 0.6896 - val_loss: 1.7184\n",
            "Epoch 40/60\n",
            "\u001b[1m1105/1105\u001b[0m \u001b[32m━━━━━━━━━━━━━━━━━━━━\u001b[0m\u001b[37m\u001b[0m \u001b[1m515s\u001b[0m 466ms/step - accuracy: 0.9413 - loss: 0.1869 - val_accuracy: 0.6721 - val_loss: 1.8115\n",
            "Epoch 41/60\n",
            "\u001b[1m1105/1105\u001b[0m \u001b[32m━━━━━━━━━━━━━━━━━━━━\u001b[0m\u001b[37m\u001b[0m \u001b[1m512s\u001b[0m 464ms/step - accuracy: 0.9444 - loss: 0.1788 - val_accuracy: 0.6645 - val_loss: 1.9387\n",
            "Epoch 42/60\n",
            "\u001b[1m1105/1105\u001b[0m \u001b[32m━━━━━━━━━━━━━━━━━━━━\u001b[0m\u001b[37m\u001b[0m \u001b[1m519s\u001b[0m 470ms/step - accuracy: 0.9411 - loss: 0.1863 - val_accuracy: 0.6679 - val_loss: 2.0408\n",
            "Epoch 43/60\n",
            "\u001b[1m1105/1105\u001b[0m \u001b[32m━━━━━━━━━━━━━━━━━━━━\u001b[0m\u001b[37m\u001b[0m \u001b[1m514s\u001b[0m 466ms/step - accuracy: 0.9477 - loss: 0.1668 - val_accuracy: 0.6557 - val_loss: 2.1372\n",
            "Epoch 44/60\n",
            "\u001b[1m1105/1105\u001b[0m \u001b[32m━━━━━━━━━━━━━━━━━━━━\u001b[0m\u001b[37m\u001b[0m \u001b[1m515s\u001b[0m 466ms/step - accuracy: 0.9480 - loss: 0.1675 - val_accuracy: 0.6723 - val_loss: 1.8986\n",
            "Epoch 45/60\n",
            "\u001b[1m1105/1105\u001b[0m \u001b[32m━━━━━━━━━━━━━━━━━━━━\u001b[0m\u001b[37m\u001b[0m \u001b[1m516s\u001b[0m 467ms/step - accuracy: 0.9495 - loss: 0.1652 - val_accuracy: 0.6852 - val_loss: 1.7301\n",
            "Epoch 46/60\n",
            "\u001b[1m1105/1105\u001b[0m \u001b[32m━━━━━━━━━━━━━━━━━━━━\u001b[0m\u001b[37m\u001b[0m \u001b[1m518s\u001b[0m 469ms/step - accuracy: 0.9479 - loss: 0.1654 - val_accuracy: 0.6715 - val_loss: 1.9720\n",
            "Epoch 47/60\n",
            "\u001b[1m1105/1105\u001b[0m \u001b[32m━━━━━━━━━━━━━━━━━━━━\u001b[0m\u001b[37m\u001b[0m \u001b[1m514s\u001b[0m 465ms/step - accuracy: 0.9494 - loss: 0.1579 - val_accuracy: 0.6667 - val_loss: 2.0581\n",
            "Epoch 48/60\n",
            "\u001b[1m1105/1105\u001b[0m \u001b[32m━━━━━━━━━━━━━━━━━━━━\u001b[0m\u001b[37m\u001b[0m \u001b[1m512s\u001b[0m 463ms/step - accuracy: 0.9531 - loss: 0.1553 - val_accuracy: 0.6758 - val_loss: 1.9488\n",
            "Epoch 49/60\n",
            "\u001b[1m1105/1105\u001b[0m \u001b[32m━━━━━━━━━━━━━━━━━━━━\u001b[0m\u001b[37m\u001b[0m \u001b[1m511s\u001b[0m 463ms/step - accuracy: 0.9519 - loss: 0.1503 - val_accuracy: 0.6769 - val_loss: 1.9781\n",
            "Epoch 50/60\n",
            "\u001b[1m1105/1105\u001b[0m \u001b[32m━━━━━━━━━━━━━━━━━━━━\u001b[0m\u001b[37m\u001b[0m \u001b[1m512s\u001b[0m 463ms/step - accuracy: 0.9540 - loss: 0.1455 - val_accuracy: 0.6666 - val_loss: 2.0753\n",
            "Epoch 51/60\n",
            "\u001b[1m1105/1105\u001b[0m \u001b[32m━━━━━━━━━━━━━━━━━━━━\u001b[0m\u001b[37m\u001b[0m \u001b[1m515s\u001b[0m 466ms/step - accuracy: 0.9542 - loss: 0.1461 - val_accuracy: 0.6807 - val_loss: 1.9390\n",
            "Epoch 52/60\n",
            "\u001b[1m1105/1105\u001b[0m \u001b[32m━━━━━━━━━━━━━━━━━━━━\u001b[0m\u001b[37m\u001b[0m \u001b[1m521s\u001b[0m 472ms/step - accuracy: 0.9539 - loss: 0.1444 - val_accuracy: 0.6701 - val_loss: 2.0254\n",
            "Epoch 53/60\n",
            "\u001b[1m1105/1105\u001b[0m \u001b[32m━━━━━━━━━━━━━━━━━━━━\u001b[0m\u001b[37m\u001b[0m \u001b[1m513s\u001b[0m 464ms/step - accuracy: 0.9548 - loss: 0.1423 - val_accuracy: 0.6684 - val_loss: 2.0901\n",
            "Epoch 54/60\n",
            "\u001b[1m1105/1105\u001b[0m \u001b[32m━━━━━━━━━━━━━━━━━━━━\u001b[0m\u001b[37m\u001b[0m \u001b[1m512s\u001b[0m 464ms/step - accuracy: 0.9578 - loss: 0.1354 - val_accuracy: 0.6808 - val_loss: 1.9515\n",
            "Epoch 55/60\n",
            "\u001b[1m1105/1105\u001b[0m \u001b[32m━━━━━━━━━━━━━━━━━━━━\u001b[0m\u001b[37m\u001b[0m \u001b[1m515s\u001b[0m 466ms/step - accuracy: 0.9550 - loss: 0.1414 - val_accuracy: 0.6732 - val_loss: 2.0644\n",
            "Epoch 56/60\n",
            "\u001b[1m1105/1105\u001b[0m \u001b[32m━━━━━━━━━━━━━━━━━━━━\u001b[0m\u001b[37m\u001b[0m \u001b[1m520s\u001b[0m 471ms/step - accuracy: 0.9580 - loss: 0.1338 - val_accuracy: 0.6789 - val_loss: 1.8941\n",
            "Epoch 57/60\n",
            "\u001b[1m1105/1105\u001b[0m \u001b[32m━━━━━━━━━━━━━━━━━━━━\u001b[0m\u001b[37m\u001b[0m \u001b[1m515s\u001b[0m 466ms/step - accuracy: 0.9572 - loss: 0.1352 - val_accuracy: 0.6916 - val_loss: 1.8747\n",
            "Epoch 58/60\n",
            "\u001b[1m1105/1105\u001b[0m \u001b[32m━━━━━━━━━━━━━━━━━━━━\u001b[0m\u001b[37m\u001b[0m \u001b[1m510s\u001b[0m 462ms/step - accuracy: 0.9580 - loss: 0.1358 - val_accuracy: 0.6685 - val_loss: 2.1208\n",
            "Epoch 59/60\n",
            "\u001b[1m1105/1105\u001b[0m \u001b[32m━━━━━━━━━━━━━━━━━━━━\u001b[0m\u001b[37m\u001b[0m \u001b[1m512s\u001b[0m 464ms/step - accuracy: 0.9627 - loss: 0.1192 - val_accuracy: 0.6755 - val_loss: 2.0374\n",
            "Epoch 60/60\n",
            "\u001b[1m1105/1105\u001b[0m \u001b[32m━━━━━━━━━━━━━━━━━━━━\u001b[0m\u001b[37m\u001b[0m \u001b[1m513s\u001b[0m 464ms/step - accuracy: 0.9603 - loss: 0.1315 - val_accuracy: 0.6576 - val_loss: 2.1883\n"
          ]
        }
      ]
    },
    {
      "cell_type": "code",
      "source": [
        "# Rebuild MobileNetV2 model architecture\n",
        "from tensorflow.keras.applications import MobileNetV2\n",
        "from tensorflow.keras.models import Model\n",
        "from tensorflow.keras.layers import Dense, Dropout, GlobalAveragePooling2D\n",
        "from tensorflow.keras.optimizers import Adam"
      ],
      "metadata": {
        "id": "nQ8ZaUmcwazk"
      },
      "execution_count": 20,
      "outputs": []
    },
    {
      "cell_type": "code",
      "source": [
        "IMG_SIZE = (224, 224)\n",
        "NUM_CLASSES = 101"
      ],
      "metadata": {
        "id": "zxuYc2L3we-O"
      },
      "execution_count": 21,
      "outputs": []
    },
    {
      "cell_type": "code",
      "source": [
        "# Build the model again\n",
        "base_model = MobileNetV2(include_top=False, input_shape=(224, 224, 3), weights='imagenet')\n",
        "base_model.trainable = True"
      ],
      "metadata": {
        "id": "EA5CiTdFwhy4"
      },
      "execution_count": 22,
      "outputs": []
    },
    {
      "cell_type": "code",
      "source": [
        "x = base_model.output\n",
        "x = GlobalAveragePooling2D()(x)\n",
        "x = Dropout(0.4)(x)\n",
        "outputs = Dense(NUM_CLASSES, activation='softmax')(x)\n"
      ],
      "metadata": {
        "id": "LsFYq11GwldQ"
      },
      "execution_count": 23,
      "outputs": []
    },
    {
      "cell_type": "code",
      "source": [
        "model = Model(inputs=base_model.input, outputs=outputs)"
      ],
      "metadata": {
        "id": "MzRfN25OwoQJ"
      },
      "execution_count": 24,
      "outputs": []
    },
    {
      "cell_type": "code",
      "source": [
        "# Compile model\n",
        "model.compile(optimizer=Adam(learning_rate=1e-4),\n",
        "              loss='categorical_crossentropy',\n",
        "              metrics=['accuracy'])\n"
      ],
      "metadata": {
        "id": "cC_Vsssbwqs7"
      },
      "execution_count": 25,
      "outputs": []
    },
    {
      "cell_type": "code",
      "source": [
        "# Load your best checkpoint\n",
        "best_checkpoint_path = '/content/checkpoints/ckpt_57.weights.h5'\n",
        "model.load_weights(best_checkpoint_path)\n",
        "print(\"✅ Successfully loaded best checkpoint from epoch 57!\")"
      ],
      "metadata": {
        "id": "j7P-J1y7wtdO",
        "outputId": "b912297c-8110-4222-f0de-7888bac5572c",
        "colab": {
          "base_uri": "https://localhost:8080/"
        }
      },
      "execution_count": 26,
      "outputs": [
        {
          "output_type": "stream",
          "name": "stdout",
          "text": [
            "✅ Successfully loaded best checkpoint from epoch 57!\n"
          ]
        },
        {
          "output_type": "stream",
          "name": "stderr",
          "text": [
            "/usr/local/lib/python3.11/dist-packages/keras/src/saving/saving_lib.py:757: UserWarning: Skipping variable loading for optimizer 'adam', because it has 2 variables whereas the saved optimizer has 318 variables. \n",
            "  saveable.load_own_variables(weights_store.get(inner_path))\n"
          ]
        }
      ]
    },
    {
      "cell_type": "code",
      "source": [
        "# Evaluate the model on the test set\n",
        "test_loss, test_acc = model.evaluate(test_generator)\n",
        "print(f\"\\n✅ Final Test Accuracy from best checkpoint: {test_acc:.4f}\")"
      ],
      "metadata": {
        "id": "ARhBrD0_w3Gk",
        "outputId": "70044ef3-f623-4344-d55e-b2b4099d2b16",
        "colab": {
          "base_uri": "https://localhost:8080/"
        }
      },
      "execution_count": 27,
      "outputs": [
        {
          "output_type": "stream",
          "name": "stdout",
          "text": [
            "\u001b[1m556/556\u001b[0m \u001b[32m━━━━━━━━━━━━━━━━━━━━\u001b[0m\u001b[37m\u001b[0m \u001b[1m49s\u001b[0m 80ms/step - accuracy: 0.6682 - loss: 2.1094\n",
            "\n",
            "✅ Final Test Accuracy from best checkpoint: 0.6904\n"
          ]
        }
      ]
    },
    {
      "cell_type": "code",
      "source": [
        "# Save the final good model\n",
        "model.save('/content/mobilenetv2_best_model_epoch57.h5')\n",
        "print(\"\\n✅ Final best model saved successfully!\")"
      ],
      "metadata": {
        "id": "oSzwSsDoyQFU",
        "outputId": "b8751875-45c5-43ff-e23c-61d2ad3465fb",
        "colab": {
          "base_uri": "https://localhost:8080/"
        }
      },
      "execution_count": 29,
      "outputs": [
        {
          "output_type": "stream",
          "name": "stderr",
          "text": [
            "WARNING:absl:You are saving your model as an HDF5 file via `model.save()` or `keras.saving.save_model(model)`. This file format is considered legacy. We recommend using instead the native Keras format, e.g. `model.save('my_model.keras')` or `keras.saving.save_model(model, 'my_model.keras')`. \n"
          ]
        },
        {
          "output_type": "stream",
          "name": "stdout",
          "text": [
            "\n",
            "✅ Final best model saved successfully!\n"
          ]
        }
      ]
    }
  ],
  "metadata": {
    "colab": {
      "name": "Making the Most of your Colab Subscription",
      "provenance": [],
      "machine_shape": "hm",
      "gpuType": "A100"
    },
    "kernelspec": {
      "display_name": "Python 3",
      "name": "python3"
    },
    "accelerator": "GPU"
  },
  "nbformat": 4,
  "nbformat_minor": 0
}